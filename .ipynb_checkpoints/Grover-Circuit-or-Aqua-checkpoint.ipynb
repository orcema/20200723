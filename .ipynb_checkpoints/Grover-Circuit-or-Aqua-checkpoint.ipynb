{
 "cells": [
  {
   "cell_type": "markdown",
   "metadata": {},
   "source": [
    "\n",
    "# <center>QISKit hands on lab addition : Grover with circuits and Aqua</center>\n",
    "\n",
    "### <span style=\"color:blue\"><em>Jean-Michel Torres, IBM Q Hub France, torresjm@fr.ibm.com</em></span>\n",
    "\n",
    "\n",
    "### Agenda :\n",
    "<ol>\n",
    "    <li>What is Grover search algorithm</li>\n",
    "    <li>Tiny sample coding Grover operator</li>\n",
    "    <li>Using QISKit AQUA for 3SAT with Grover</li>\n",
    "</ol>\n"
   ]
  },
  {
   "cell_type": "markdown",
   "metadata": {},
   "source": [
    "<div class=\"alert alert-block alert-success\">\n",
    "    \n",
    "#  A. Grover search algorithm\n",
    "</div>\n",
    "\n",
    "Grover search alogrithm finds an element from a non ordered set, faster than any classical algorithm.\n",
    "\n",
    "In other words Grover search algorithm will find an element matching a criteria, out of an unordered list.\n",
    "\n",
    "<img src=\"./images/long_list.jpg\" alt=\"Note: In order for images to show up in this jupyter notebook you need to select File => Trusted Notebook\" width=\"600 px\" align=\"center\">\n",
    "<br>\n",
    "\n",
    "Let's apply to the very tiny example of finding one element out of four, and to relate to an example : let's find where is the Queen of Hearts out of four Queen.\n",
    "This is equivalent to find what index in the list is set to 1 (when others are set to 0).\n",
    "\n",
    "Classical process requires an average of 2.25 tries to find the index value of one element out of four (i.e: find the Queen of hearts hidden amongst four Queen). \n",
    "\n",
    "\n",
    "| draw     | Probability p of finding QH | Quantity q of draw(s) | p x q  |\n",
    "| ----------- | ------------- |-----------------------------------------------| --- |\n",
    "|First | 0.25| 1 | 0.25 |\n",
    "|Second | 0.25  | 2 | 0.5 |\n",
    "|Third (1)| 0.5  | 3 | 1.5 |\n",
    "|TOTAL   | - |- |2.25|\n",
    "  \n",
    "(1) At this point, wether we draw the Queen of Hearts or not, we know where it is, so this is the final draw, no need for the 4rth draw.\n",
    "\n",
    "On the other hand, in this case, Grover search algorithm can find the Queen of hearts in a single attempt. \n",
    "\n",
    "More generally Grover search algorithm will require a number of attempts proportionnal to square root of N, where N is the set size:\n",
    "\n",
    "\\begin{equation} \n",
    "\\frac{\\pi}{4}{\\sqrt{N}} \n",
    "\\end{equation}\n"
   ]
  },
  {
   "cell_type": "code",
   "execution_count": null,
   "metadata": {},
   "outputs": [],
   "source": [
    "# Classical way: hiding one card at a random position, and then count the attempts before the card is found.\n",
    "from random import randint\n",
    "\n",
    "def hide(n):\n",
    "    ''' this creates a list of n '0', with one '1' at a random position'''\n",
    "    cards = [0 for i in range(n)]  # only 0'\n",
    "    position = randint(0, n-1)     # draw a random position\n",
    "    cards[position] = 1            # this position now has a 1 (others keep 0)\n",
    "    return cards\n",
    "    \n",
    "def find(cards): \n",
    "    n = 0 # initialize attempts needed to find the hidden position\n",
    "    while len(cards) > 1: # when there is one card left, we know it is the hidden position\n",
    "        trial = randint(0,len(cards)-1) # try one position at random\n",
    "        if cards[trial]: \n",
    "            n+=1\n",
    "            break\n",
    "        else:\n",
    "            n+=1\n",
    "            # remove that card from the list\n",
    "            cards = cards[0:trial] + cards[trial+1:len(cards)]\n",
    "    return n\n",
    "\n",
    "# params : lentgh = number of cards face down in the game,\n",
    "#          could be 4, 32, or any\n",
    "# params : draws = quantity of times the experience will\n",
    "#          be made to be able to calculate the average draws \n",
    "#          needed to find the hidden position\n",
    "length = 4\n",
    "draws = 1000\n",
    "\n",
    "# initalize count of shots needed to find hidden position\n",
    "shots = 0\n",
    "for d in range(draws):\n",
    "    cards = hide(length)\n",
    "    shots += find(cards) \n",
    "\n",
    "print(f\"With {length} cards and {draws} experiments:\")\n",
    "print(f\"    the hidden card was found in a average of {shots/draws} draws\")"
   ]
  },
  {
   "cell_type": "markdown",
   "metadata": {},
   "source": [
    "\n",
    "So now, let's go with the quantum computing demo with N=4 (4 cards, 4 positions) \n"
   ]
  },
  {
   "cell_type": "markdown",
   "metadata": {},
   "source": [
    "<div class=\"alert alert-block alert-success\">\n",
    "    \n",
    "#  B. Grover search algorithm with QISKit circuits\n",
    "</div>"
   ]
  },
  {
   "cell_type": "markdown",
   "metadata": {},
   "source": [
    "## 1. SETUP"
   ]
  },
  {
   "cell_type": "markdown",
   "metadata": {},
   "source": [
    "### General setup\n",
    "\n",
    "\n",
    "The cell below imports the needed function from qiskit and other libraries:\n"
   ]
  },
  {
   "cell_type": "code",
   "execution_count": null,
   "metadata": {},
   "outputs": [],
   "source": [
    "from IPython.display import Image, display\n",
    "from random import randint\n",
    "from qiskit import QuantumRegister, ClassicalRegister, QuantumCircuit, execute\n",
    "\n",
    "print(\"The required objects have been imported from QISKit and other Python libraries\")"
   ]
  },
  {
   "cell_type": "markdown",
   "metadata": {},
   "source": [
    "### Defining the sub functions for setting the index as data entry\n",
    "\n",
    "We are defining 4 custom gates (need QISKit version 0.9 and above)"
   ]
  },
  {
   "cell_type": "code",
   "execution_count": null,
   "metadata": {},
   "outputs": [],
   "source": [
    "sub_qr = QuantumRegister(2)\n",
    "\n",
    "# let's define a list of custom gates, there will be four of them, each one to \"hide\"\n",
    "# the card in of of the four possible positions \n",
    "hide = []\n",
    "# this dummy circuit is just to fill position 0 in the list, so we do not get confused\n",
    "# later witn an ofsset between position and index. \n",
    "dummy = QuantumCircuit(1)\n",
    "hide.append(dummy)\n",
    "\n",
    "# first position \n",
    "sub_circ = QuantumCircuit(sub_qr, name='Hide')\n",
    "for i in range(2):\n",
    "    sub_circ.h(sub_qr[i])\n",
    "    sub_circ.s(sub_qr[i])\n",
    "sub_circ.h(sub_qr[1])\n",
    "sub_circ.cx(sub_qr[0], sub_qr[1])\n",
    "sub_circ.h(sub_qr[1])\n",
    "for i in range(2):\n",
    "    sub_circ.s(sub_qr[i])\n",
    "# Convert to a gate\n",
    "hide.append(sub_circ.to_instruction())\n",
    "\n",
    "# second position \n",
    "sub_circ = QuantumCircuit(sub_qr, name='Hide')\n",
    "for i in range(2):\n",
    "    sub_circ.h(sub_qr[i])\n",
    "sub_circ.s(sub_qr[1])\n",
    "sub_circ.h(sub_qr[1])\n",
    "sub_circ.cx(sub_qr[0], sub_qr[1])\n",
    "sub_circ.h(sub_qr[1])\n",
    "sub_circ.s(sub_qr[1])\n",
    "# Convert to a gate\n",
    "hide.append(sub_circ.to_instruction())\n",
    "\n",
    "# third position \n",
    "sub_circ = QuantumCircuit(sub_qr, name='Hide')\n",
    "sub_circ.h(sub_qr[0])\n",
    "sub_circ.h(sub_qr[1])\n",
    "sub_circ.s(sub_qr[0])\n",
    "sub_circ.h(sub_qr[1])\n",
    "sub_circ.cx(sub_qr[0], sub_qr[1])\n",
    "sub_circ.h(sub_qr[1])\n",
    "sub_circ.s(sub_qr[0])\n",
    "# Convert to a gate\n",
    "hide.append(sub_circ.to_instruction())\n",
    "\n",
    "# fourth position \n",
    "sub_circ = QuantumCircuit(sub_qr, name='Hide')\n",
    "sub_circ.h(sub_qr[0])\n",
    "sub_circ.h(sub_qr[1])\n",
    "sub_circ.h(sub_qr[1])\n",
    "sub_circ.cx(sub_qr[0], sub_qr[1])\n",
    "sub_circ.h(sub_qr[1])\n",
    "# Convert to a gate\n",
    "hide.append(sub_circ.to_instruction())\n",
    "\n",
    "display(Image(filename='./images/cards/4FacesDown.jpeg', width=800))\n",
    "\n",
    "print(\"We have created our own quantum gates,\")\n",
    "print(\"to prepare the state of our QH hidden in any of the four positions\")\n",
    "\n",
    "# uncomment next lines to visualize\n",
    "#q = QuantumRegister(2, 'q')\n",
    "#circ = QuantumCircuit(q)\n",
    "#for i in range(4): \n",
    "#circ.append(hide[i], [q[0], q[1]])\n",
    "#circ.draw(output='mpl')\n"
   ]
  },
  {
   "cell_type": "markdown",
   "metadata": {},
   "source": [
    "### Building the Grover operator, this sub function will be used to reveal the hidden index in one shot"
   ]
  },
  {
   "cell_type": "code",
   "execution_count": null,
   "metadata": {},
   "outputs": [],
   "source": [
    "# Grover operator \n",
    "sub_circ = QuantumCircuit(sub_qr, name='Grover-Op')\n",
    "for i in range(2):\n",
    "    sub_circ.h(sub_qr[i])\n",
    "    sub_circ.x(sub_qr[i])\n",
    "sub_circ.h(sub_qr[1])\n",
    "sub_circ.cx(sub_qr[0], sub_qr[1])\n",
    "sub_circ.h(sub_qr[1])\n",
    "for i in range(2):\n",
    "    sub_circ.x(sub_qr[i])\n",
    "    sub_circ.h(sub_qr[i])\n",
    "\n",
    "# Convert to a gate\n",
    "grover = sub_circ.to_instruction()\n",
    "\n",
    "print(\"We have created our Grover operator on 2 qubits\")\n",
    "print(\" \")\n",
    "print(\"We are ready to go !\")\n",
    "\n",
    "# uncomment next lines to visualize\n",
    "q = QuantumRegister(2, 'q')\n",
    "circ = QuantumCircuit(q)\n",
    "circ.append(grover, [q[0], q[1]])\n",
    "circ.draw(output='mpl')\n",
    "sub_circ.draw(output=\"mpl\")"
   ]
  },
  {
   "cell_type": "markdown",
   "metadata": {},
   "source": [
    "## 2. DRAW A RANDOM POSITION\n",
    "\n",
    "### ... and keep it secret. "
   ]
  },
  {
   "cell_type": "code",
   "execution_count": null,
   "metadata": {},
   "outputs": [],
   "source": [
    "secret = randint(1,4)\n",
    "\n",
    "print(\"Now, the secret position has been chosen, no one knows what it is,\")\n",
    "print(\" \")\n",
    "print(\"Let's first use Grover to find it !\")"
   ]
  },
  {
   "cell_type": "markdown",
   "metadata": {},
   "source": [
    "## 3. Now build the circuit: \n",
    "\n",
    "### adding the chosen sub circuit (at random) and the grover operator, then measurement step. \n"
   ]
  },
  {
   "cell_type": "code",
   "execution_count": null,
   "metadata": {},
   "outputs": [],
   "source": [
    "# define needed registers, and our quantum circuit. \n",
    "qr = QuantumRegister(2)    \n",
    "cr = ClassicalRegister(2)\n",
    "\n",
    "circ = QuantumCircuit(qr,cr)\n",
    "\n",
    "# use the selected hide gate (determined by random value \"secret\")\n",
    "circ.append(hide[secret], [qr[0],qr[1]])\n",
    "# add grover operator\n",
    "circ.append(grover, [qr[0],qr[1]])\n",
    "# add measuring stage\n",
    "circ.measure(qr,cr)\n",
    "# that's it !\n",
    "circ.draw(output='mpl')"
   ]
  },
  {
   "cell_type": "markdown",
   "metadata": {},
   "source": [
    "## 4. Execute the circuit (on the local simulator) : \n",
    "\n",
    "- choose backend\n",
    "\n",
    "- define job\n",
    "\n",
    "- get result"
   ]
  },
  {
   "cell_type": "code",
   "execution_count": null,
   "metadata": {},
   "outputs": [],
   "source": [
    "from qiskit import Aer\n",
    "#print(Aer.backends())\n",
    "backend = Aer.get_backend('qasm_simulator')\n",
    "# define job, get results\n",
    "job = execute(circ,backend,shots=100)\n",
    "my_result = job.result()\n",
    "d = (my_result.get_counts(circ))\n",
    "\n",
    "max = 0\n",
    "for x in d:\n",
    "    if d[x] > max:\n",
    "        val = x\n",
    "\n",
    "if val == '00': \n",
    "    position = \"first\"\n",
    "if val == '10':\n",
    "    position = \"second\"\n",
    "if val == '01': \n",
    "    position = \"third\"\n",
    "if val == '11': \n",
    "    position = \"fourth\"\n",
    "    \n",
    "print(\" \")\n",
    "print(\"The position found by Grover search algorithm is:\", position)\n"
   ]
  },
  {
   "cell_type": "code",
   "execution_count": null,
   "metadata": {},
   "outputs": [],
   "source": []
  },
  {
   "cell_type": "code",
   "execution_count": null,
   "metadata": {},
   "outputs": [],
   "source": [
    "from qiskit.tools.visualization import plot_histogram\n",
    "# define job, get results\n",
    "job = execute(circ,backend,shots=100)\n",
    "my_result = job.result()\n",
    "d = (my_result.get_counts(circ))\n",
    "\n",
    "plot_histogram(my_result.get_counts(circ))"
   ]
  },
  {
   "cell_type": "markdown",
   "metadata": {},
   "source": [
    "## 5. Reveal what was the hidden position (the index of the data element searched)"
   ]
  },
  {
   "cell_type": "code",
   "execution_count": null,
   "metadata": {
    "scrolled": true
   },
   "outputs": [],
   "source": [
    "print(f\"The hiding position was: {secret}\")\n",
    "print(\"Grover search needed to turn only one card to discover the queen of Hearts: \")\n",
    "\n",
    "filename = './images/cards/QHFaceUPPos'+str(secret)+'.jpeg'\n",
    "\n",
    "display(Image(filename=filename, width=800))\n"
   ]
  },
  {
   "cell_type": "markdown",
   "metadata": {},
   "source": [
    "## You can also run this on a real backend using IBMQ. "
   ]
  },
  {
   "cell_type": "markdown",
   "metadata": {},
   "source": [
    "<div class=\"alert alert-block alert-success\">\n",
    "    \n",
    "#  C.  QISKit AQUA for 3SAT with Grover\n",
    "</div>"
   ]
  },
  {
   "cell_type": "code",
   "execution_count": null,
   "metadata": {},
   "outputs": [],
   "source": [
    "import pylab\n",
    "import numpy as np\n",
    "from qiskit import Aer\n",
    "from qiskit.tools.visualization import plot_histogram\n",
    "from qiskit.aqua import QuantumInstance\n",
    "from qiskit.aqua import run_algorithm\n",
    "from qiskit.aqua.algorithms import Grover\n",
    "from qiskit.aqua.components.oracles import LogicalExpressionOracle, TruthTableOracle"
   ]
  },
  {
   "cell_type": "markdown",
   "metadata": {},
   "source": [
    "Again, let's search for a card in a deck. \n",
    "This time, within a 32 cards deck (7,8,9,10,J,Q,K,A,Spades,Hearts,Diamonds,Clubs). \n",
    "Let's use these booleans to catagorize the cards: \n",
    "<ul>\n",
    "    <li>$x_1$ : the card is a number (7,8,9,10)</li>\n",
    "    <li>$x_2$ : the card is red (hearts, diamonds)</li>\n",
    "    <li>$x_3$ : the suit has a sharp edge on top (spades, diamonds)</li>\n",
    "    <li>$x_4$ : the card is at odd position (7,9,J,K)</li>\n",
    "    <li>$x_5$ : the card is in the middle values (9,10,J,Q)</li>\n",
    "</ul>\n",
    "\n",
    "With this we can form a logical expression, in the 3SAT form: \n",
    "\n",
    "$F = ( x_1 \\lor x_2 \\lor x_5) \\land ( x_1 \\lor  x_2 \\lor \\neg x_5) \\land ( x_1 \\lor \\neg x_2 \\lor x_5) \\land ( \\neg x_1 \\lor  x_2 \\lor  x_5) \\land ( \\neg x_1 \\lor  x_2 \\lor \\neg x_5) ...$\n",
    "\n",
    "$... ( \\neg x_1 \\lor \\neg x_2 \\lor x_4) \\land (\\neg x_2 \\lor \\neg x_3 \\lor x_4) \\land ( \\neg x_2 \\lor \\neg x_3 \\lor \\neg  x_4) \\land ( \\neg x_2 \\lor x_3 \\lor \\neg  x_4) \n",
    "$\n",
    "\n",
    "... and use the Grover algorithm to find if card (and which) satisfies the expression. \n",
    "\n",
    "\n"
   ]
  },
  {
   "cell_type": "code",
   "execution_count": null,
   "metadata": {},
   "outputs": [],
   "source": [
    "# Create the expression above in DIMACS-CNF format \n",
    "# Logical expression :(𝑣1∨¬𝑣2∨𝑣3)∧(𝑣1∨𝑣2∨¬𝑣3)∧(¬𝑣1∨𝑣2∨¬𝑣3)∧(𝑣1∨¬𝑣2∨¬𝑣3)∧(¬𝑣1∨¬𝑣2∨¬𝑣3)\n",
    "input_3sat='''\n",
    "c example DIMACS-CNF 3-SAT\n",
    "p cnf 5 8\n",
    "1 2 5 0\n",
    "1 2 -5 0\n",
    "1 -2 5 0\n",
    "-1 2 5 0\n",
    "-1 2 -5 0 \n",
    "-1 -2 4 0 \n",
    "-2 -3 4 0\n",
    "-2 -3 -4 0\n",
    "-2 3 -4 0\n",
    "'''"
   ]
  },
  {
   "cell_type": "code",
   "execution_count": null,
   "metadata": {},
   "outputs": [],
   "source": [
    "# Construct the Oracle Circuit with the LogicalExpressionOracle and set the optimisation parameter to True\n",
    "oracle = LogicalExpressionOracle(input_3sat, optimization=True)\n",
    "\n",
    "# Draw the circuit of oracle with the method .circuit.draw()\n",
    "oracle.circuit.draw(output='mpl', scale=0.25, fold=60)"
   ]
  },
  {
   "cell_type": "code",
   "execution_count": null,
   "metadata": {},
   "outputs": [],
   "source": [
    "# Create a grover instance with the Grover function \n",
    "# use the num_iterations by default = 1\n",
    "grover = Grover(oracle, num_iterations=5)"
   ]
  },
  {
   "cell_type": "code",
   "execution_count": null,
   "metadata": {},
   "outputs": [],
   "source": [
    "# Load the qasm_simulator backend from Aer module\n",
    "backend = Aer.get_backend('qasm_simulator')\n",
    "\n",
    "# Create a quantum_instance with QuantumInstance\n",
    "quantum_instance = QuantumInstance(backend, shots=8192)\n",
    "\n",
    "# run the Grover algorithm on the quantum_instance\n",
    "result = grover.run(quantum_instance)\n",
    "\n",
    "# print the results of the experiment result['result'] or result['measurement']\n",
    "print('The corresponding result is: ',result['result'], 'or',  result['measurement'])\n",
    "\n"
   ]
  },
  {
   "cell_type": "code",
   "execution_count": null,
   "metadata": {
    "scrolled": true
   },
   "outputs": [],
   "source": [
    "# plot the histogram with the plot_histogram function on result['measurement']\n",
    "plot_histogram(result['measurement'])"
   ]
  },
  {
   "cell_type": "markdown",
   "metadata": {},
   "source": [
    "So we find 01001 a card with a letter index, red, with no sharp edge on top of the suit symbol, at even position, and in the middle values. Did you guess what card it is ? "
   ]
  },
  {
   "cell_type": "markdown",
   "metadata": {},
   "source": [
    "## Thank you for your attention"
   ]
  }
 ],
 "metadata": {
  "kernelspec": {
   "display_name": "Python 3",
   "language": "python",
   "name": "python3"
  },
  "language_info": {
   "codemirror_mode": {
    "name": "ipython",
    "version": 3
   },
   "file_extension": ".py",
   "mimetype": "text/x-python",
   "name": "python",
   "nbconvert_exporter": "python",
   "pygments_lexer": "ipython3",
   "version": "3.7.3"
  }
 },
 "nbformat": 4,
 "nbformat_minor": 2
}

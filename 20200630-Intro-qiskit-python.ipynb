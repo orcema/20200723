{
 "cells": [
  {
   "cell_type": "markdown",
   "metadata": {},
   "source": [
    "\n",
    "## <center>qiskit demo with Python</center>\n",
    "## <center>Building a circuit - Running a circuit - Reading results </center>\n",
    "\n",
    "### <span style=\"color:blue\"><em>Jean-Michel Torres, IBM Q Hub France, torresjm@fr.ibm.com</em></span>\n"
   ]
  },
  {
   "cell_type": "markdown",
   "metadata": {},
   "source": [
    "<div class=\"alert alert-block alert-success\">\n",
    "    \n",
    "# 1. \"Hello World\" quantum computing with Python and  qiskit.\n",
    "</div>"
   ]
  },
  {
   "cell_type": "markdown",
   "metadata": {},
   "source": [
    "### Let's import what we need from qiskit library\n",
    "\n",
    "<ul>\n",
    "    <li>QuantumRegister : define and use qubits register </li>\n",
    "    <li>ClassicalRegister : to perform measurement into </li>\n",
    "    <li>QuantumCircuit : to build out circuit</li>\n",
    "    <li>execute : method for circuit execution</li>\n",
    "    <li>A backend to execute on, here we are using the local simulator provided within the \"Aer\" qiskit component </li> \n",
    "    <li>and tool for results display</li> \n",
    "</ul>"
   ]
  },
  {
   "cell_type": "code",
   "execution_count": 1,
   "metadata": {
    "slideshow": {
     "slide_type": "-"
    }
   },
   "outputs": [],
   "source": [
    "%matplotlib inline\n",
    "from qiskit import QuantumRegister, ClassicalRegister, QuantumCircuit\n",
    "from qiskit import Aer, execute\n",
    "backend = Aer.get_backend('qasm_simulator')\n",
    "from qiskit.tools.visualization import plot_histogram"
   ]
  },
  {
   "cell_type": "markdown",
   "metadata": {},
   "source": [
    "### make instance of the required objects, including the quantum circuit, and let's add quantum gates to it: \n",
    "\n",
    "example  : `circ.x(qr[0])` for X gate, `circ.h(qr[0])` for H gate, `circ.cx(qr[0],qr[1])` for CNOT and  `circ.measure(qr,cr)` for measurement. "
   ]
  },
  {
   "cell_type": "code",
   "execution_count": 5,
   "metadata": {},
   "outputs": [
    {
     "data": {
      "image/png": "[encoded data removed]",
      "text/plain": [
       "<Figure size 408.156x204.68 with 1 Axes>"
      ]
     },
     "execution_count": 5,
     "metadata": {},
     "output_type": "execute_result"
    }
   ],
   "source": [
    "qr = QuantumRegister(2)\n",
    "cr = ClassicalRegister(2)\n",
    "\n",
    "qc = QuantumCircuit(qr,cr)\n",
    "\n",
    "qc.h(qr[0])\n",
    "\n",
    "qc.cx(qr[0],qr[1])\n",
    "\n",
    "qc.measure(qr,cr)\n",
    "\n",
    "qc.draw(output='mpl')\n"
   ]
  },
  {
   "cell_type": "code",
   "execution_count": 6,
   "metadata": {
    "scrolled": true
   },
   "outputs": [
    {
     "data": {
      "text/plain": [
       "{'11': 493, '00': 518}"
      ]
     },
     "execution_count": 6,
     "metadata": {},
     "output_type": "execute_result"
    }
   ],
   "source": [
    "# execution and result \n",
    "resultat = execute(qc,backend,shots=1011).result()\n",
    "\n",
    "d = resultat.get_counts(qc)\n",
    "d"
   ]
  },
  {
   "cell_type": "code",
   "execution_count": 7,
   "metadata": {
    "scrolled": true
   },
   "outputs": [
    {
     "data": {
      "image/png": "[encoded data removed]",
      "text/plain": [
       "<Figure size 504x360 with 1 Axes>"
      ]
     },
     "execution_count": 7,
     "metadata": {},
     "output_type": "execute_result"
    }
   ],
   "source": [
    "plot_histogram(resultat.get_counts(qc))"
   ]
  },
  {
   "cell_type": "markdown",
   "metadata": {},
   "source": [
    "<div class=\"alert alert-block alert-success\">\n",
    "\n",
    "# 2. H+Cx on a real device, demo\n",
    "</div>"
   ]
  },
  {
   "cell_type": "markdown",
   "metadata": {},
   "source": [
    "\n",
    "Go to IBM Q Experience website : [here](https://quantum-computing.ibm.com).\n",
    "\n",
    "Register with your choice of access method (IBMid, . If you agree accept the conditions for using IBM Q Experience.\n",
    "\n",
    "![IBM Q Experience homepage](./IBMQX.png)*IBM Q Experience home page*\n",
    "\n",
    "On the upper right corner go to \"My Account\":\n",
    "\n",
    "![API Key](./API_Token.png)*Copy your API Key from here*\n"
   ]
  },
  {
   "cell_type": "code",
   "execution_count": 8,
   "metadata": {},
   "outputs": [],
   "source": [
    "# required librairies\n",
    "%matplotlib inline\n",
    "from qiskit import QuantumRegister, QuantumCircuit, ClassicalRegister\n",
    "from qiskit import execute"
   ]
  },
  {
   "cell_type": "code",
   "execution_count": 9,
   "metadata": {},
   "outputs": [
    {
     "data": {
      "image/png": "[encoded data removed]",
      "text/plain": [
       "<Figure size 397.32x204.68 with 1 Axes>"
      ]
     },
     "execution_count": 9,
     "metadata": {},
     "output_type": "execute_result"
    }
   ],
   "source": [
    "# building Bell state\n",
    "qc = QuantumCircuit(2,2)\n",
    "\n",
    "qc.h([0])\n",
    "qc.cx([0],[1])\n",
    "\n",
    "qc.measure([0,1],[0,1])\n",
    "qc.draw(output='mpl')"
   ]
  },
  {
   "cell_type": "code",
   "execution_count": 10,
   "metadata": {},
   "outputs": [],
   "source": [
    "# IBMQ module helps manage your IBM Q account data from your workstation. \n",
    "from qiskit import IBMQ"
   ]
  },
  {
   "cell_type": "code",
   "execution_count": 11,
   "metadata": {},
   "outputs": [
    {
     "data": {
      "text/plain": [
       "{'token': '94add97f029749a3f8bde07df2cb91bee02f620d896b22d022aefe37b7514ab920d70c23b59b306f49da00458e500573453ac887633bc2eda48feac10496e5e8',\n",
       " 'url': 'https://auth.quantum-computing.ibm.com/api'}"
      ]
     },
     "execution_count": 11,
     "metadata": {},
     "output_type": "execute_result"
    }
   ],
   "source": [
    "IBMQ.stored_account()"
   ]
  },
  {
   "cell_type": "markdown",
   "metadata": {},
   "source": [
    "<div class=\"alert alert-block alert-warning\">\n",
    "IBMQ.stored.account() will not work at first time, you need to execute the following (only on time) : "
   ]
  },
  {
   "cell_type": "code",
   "execution_count": null,
   "metadata": {},
   "outputs": [],
   "source": [
    "#MY_API_TOKEN= '* * * paste you API token here * * *'\n",
    "#IBMQ.save_account(MY_API_TOKEN, overwrite=True)"
   ]
  },
  {
   "cell_type": "code",
   "execution_count": null,
   "metadata": {},
   "outputs": [],
   "source": [
    "# If you had an account activated before qiskit version 0.11 then you need to run this (once for all): \n",
    "#IBMQ.update_account()"
   ]
  },
  {
   "cell_type": "code",
   "execution_count": 12,
   "metadata": {},
   "outputs": [
    {
     "data": {
      "text/plain": [
       "<AccountProvider for IBMQ(hub='ibm-q', group='open', project='main')>"
      ]
     },
     "execution_count": 12,
     "metadata": {},
     "output_type": "execute_result"
    }
   ],
   "source": [
    "IBMQ.load_account()"
   ]
  },
  {
   "cell_type": "code",
   "execution_count": 13,
   "metadata": {},
   "outputs": [],
   "source": [
    "# choose one available provider\n",
    "selected_provider = IBMQ.get_provider(hub='ibm-q')"
   ]
  },
  {
   "cell_type": "code",
   "execution_count": 14,
   "metadata": {},
   "outputs": [
    {
     "data": {
      "text/plain": [
       "[<IBMQSimulator('ibmq_qasm_simulator') from IBMQ(hub='ibm-q', group='open', project='main')>,\n",
       " <IBMQBackend('ibmqx2') from IBMQ(hub='ibm-q', group='open', project='main')>,\n",
       " <IBMQBackend('ibmq_16_melbourne') from IBMQ(hub='ibm-q', group='open', project='main')>,\n",
       " <IBMQBackend('ibmq_vigo') from IBMQ(hub='ibm-q', group='open', project='main')>,\n",
       " <IBMQBackend('ibmq_ourense') from IBMQ(hub='ibm-q', group='open', project='main')>,\n",
       " <IBMQBackend('ibmq_london') from IBMQ(hub='ibm-q', group='open', project='main')>,\n",
       " <IBMQBackend('ibmq_burlington') from IBMQ(hub='ibm-q', group='open', project='main')>,\n",
       " <IBMQBackend('ibmq_essex') from IBMQ(hub='ibm-q', group='open', project='main')>,\n",
       " <IBMQBackend('ibmq_armonk') from IBMQ(hub='ibm-q', group='open', project='main')>,\n",
       " <IBMQBackend('ibmq_rome') from IBMQ(hub='ibm-q', group='open', project='main')>]"
      ]
     },
     "execution_count": 14,
     "metadata": {},
     "output_type": "execute_result"
    }
   ],
   "source": [
    "# list backends available for this provider\n",
    "selected_provider.backends()"
   ]
  },
  {
   "cell_type": "code",
   "execution_count": null,
   "metadata": {},
   "outputs": [],
   "source": []
  },
  {
   "cell_type": "code",
   "execution_count": 15,
   "metadata": {},
   "outputs": [
    {
     "name": "stdout",
     "output_type": "stream",
     "text": [
      "backend name        queue qubits operational status message\n",
      "------------------- ----- ------ ----------- --------------\n",
      "ibmq_burlington         0      5           1 active\n",
      "ibmq_armonk             0      1           1 active\n",
      "ibmq_london             5      5           1 active\n",
      "ibmq_vigo               1      5           1 active\n",
      "ibmq_qasm_simulator     3     32           1 active\n",
      "ibmq_ourense            0      5           1 active\n",
      "ibmq_essex              1      5           1 active\n",
      "ibmq_rome             171      5           1 active\n",
      "ibmq_16_melbourne      22     15           1 active\n",
      "ibmqx2                  3      5           1 active\n"
     ]
    }
   ],
   "source": [
    "# small program to get backends configs and status\n",
    "# using least_busy() is more straightforward, this is to show\n",
    "# how we get info from the provider's backends\n",
    "\n",
    "sp = IBMQ.get_provider(hub='ibm-q')   # selected provider\n",
    "\n",
    "backends_set = set()\n",
    "for b in selected_provider.backends():\n",
    "    backends_set.add(str(b))\n",
    "   \n",
    "print(\"backend name        queue qubits operational status message\")\n",
    "print(\"------------------- ----- ------ ----------- --------------\")\n",
    "for b in backends_set: \n",
    "    be = sp.get_backend(b)\n",
    "    pj = be.status().pending_jobs\n",
    "    qb = be.configuration().n_qubits\n",
    "    op = be.status().operational \n",
    "    sm = be.status().status_msg\n",
    "    print(f\"{b:20} {pj:4} {qb:6}{op:12} {sm:6}\")"
   ]
  },
  {
   "cell_type": "code",
   "execution_count": 17,
   "metadata": {},
   "outputs": [
    {
     "data": {
      "text/plain": [
       "'ibmq_ourense'"
      ]
     },
     "execution_count": 17,
     "metadata": {},
     "output_type": "execute_result"
    }
   ],
   "source": [
    "# choose best backend (can use least_busy() as well ):\n",
    "backend = sp.get_backend('ibmq_ourense')\n",
    "backend.name()"
   ]
  },
  {
   "cell_type": "code",
   "execution_count": 18,
   "metadata": {},
   "outputs": [
    {
     "name": "stdout",
     "output_type": "stream",
     "text": [
      "5efb04577c0d6800138004b6\n",
      "Job Status: job has successfully run\n"
     ]
    }
   ],
   "source": [
    "# execution\n",
    "\n",
    "from qiskit.tools.monitor import job_monitor\n",
    "\n",
    "job = execute(qc,backend, shots=1000)\n",
    "\n",
    "print(job.job_id())\n",
    "\n",
    "job_monitor(job)\n"
   ]
  },
  {
   "cell_type": "code",
   "execution_count": 19,
   "metadata": {},
   "outputs": [],
   "source": [
    "## lit le résultat\n",
    "res = job.result()"
   ]
  },
  {
   "cell_type": "code",
   "execution_count": 20,
   "metadata": {},
   "outputs": [
    {
     "data": {
      "image/png": "[encoded data removed]",
      "text/plain": [
       "<Figure size 504x360 with 1 Axes>"
      ]
     },
     "execution_count": 20,
     "metadata": {},
     "output_type": "execute_result"
    }
   ],
   "source": [
    "from qiskit.tools.visualization import plot_histogram\n",
    "\n",
    "d = (res.get_counts(qc))\n",
    "plot_histogram(d)"
   ]
  },
  {
   "cell_type": "code",
   "execution_count": null,
   "metadata": {},
   "outputs": [],
   "source": [
    "d"
   ]
  },
  {
   "cell_type": "markdown",
   "metadata": {},
   "source": [
    "<div class=\"alert alert-block alert-danger\">\n",
    "\n",
    "### Just in case we run out of time: "
   ]
  },
  {
   "cell_type": "code",
   "execution_count": null,
   "metadata": {},
   "outputs": [],
   "source": [
    "from IPython.display import Image, display\n",
    "print(\"past result for the same experience:\")\n",
    "filename = './bellResult.png'\n",
    "display(Image(filename=filename))"
   ]
  }
 ],
 "metadata": {
  "kernelspec": {
   "display_name": "Python 3",
   "language": "python",
   "name": "python3"
  },
  "language_info": {
   "codemirror_mode": {
    "name": "ipython",
    "version": 3
   },
   "file_extension": ".py",
   "mimetype": "text/x-python",
   "name": "python",
   "nbconvert_exporter": "python",
   "pygments_lexer": "ipython3",
   "version": "3.7.3"
  }
 },
 "nbformat": 4,
 "nbformat_minor": 2
}
